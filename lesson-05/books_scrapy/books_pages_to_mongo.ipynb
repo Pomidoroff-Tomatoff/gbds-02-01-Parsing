{
 "cells": [
  {
   "cell_type": "markdown",
   "id": "28b68cb8",
   "metadata": {},
   "source": [
    "# Scrapy to PyMongoDB"
   ]
  },
  {
   "cell_type": "markdown",
   "id": "87f2cf9c",
   "metadata": {},
   "source": [
    "Процесс получения данных организован паучками Scrapy и запускаются из командной строки"
   ]
  },
  {
   "cell_type": "markdown",
   "id": "edb72c68",
   "metadata": {},
   "source": [
    "## Запускаем паучка `books_pages`"
   ]
  },
  {
   "cell_type": "markdown",
   "id": "6dd21485",
   "metadata": {},
   "source": [
    "__Инфо__: Паучёк `books_pages` подготовлен по шаблону `base` командой: `scrapy genspider books_pages books.toscrape.com`"
   ]
  },
  {
   "cell_type": "code",
   "execution_count": 1,
   "id": "3782b757",
   "metadata": {
    "scrolled": true
   },
   "outputs": [
    {
     "name": "stdout",
     "output_type": "stream",
     "text": [
      "2022-11-18; 17.25.33,  pass: 0001,  url: https://books.toscrape.com/\n",
      "2022-11-18; 17.25.46,  pass: 0002,  url: https://books.toscrape.com/catalogue/page-2.html\n",
      "2022-11-18; 17.25.59,  pass: 0003,  url: https://books.toscrape.com/catalogue/page-3.html\n",
      "2022-11-18; 17.26.12,  pass: 0004,  url: https://books.toscrape.com/catalogue/page-4.html\n",
      "2022-11-18; 17.26.24,  pass: 0005,  url: https://books.toscrape.com/catalogue/page-5.html\n",
      "2022-11-18; 17.26.37,  pass: 0006,  url: https://books.toscrape.com/catalogue/page-6.html\n",
      "2022-11-18; 17.26.50,  pass: 0007,  url: https://books.toscrape.com/catalogue/page-7.html\n",
      "2022-11-18; 17.27.04,  pass: 0008,  url: https://books.toscrape.com/catalogue/page-8.html\n",
      "2022-11-18; 17.27.17,  pass: 0009,  url: https://books.toscrape.com/catalogue/page-9.html\n",
      "2022-11-18; 17.27.30,  pass: 0010,  url: https://books.toscrape.com/catalogue/page-10.html\n",
      "2022-11-18; 17.27.42,  pass: 0011,  url: https://books.toscrape.com/catalogue/page-11.html\n",
      "2022-11-18; 17.27.55,  pass: 0012,  url: https://books.toscrape.com/catalogue/page-12.html\n",
      "2022-11-18; 17.28.09,  pass: 0013,  url: https://books.toscrape.com/catalogue/page-13.html\n",
      "2022-11-18; 17.28.21,  pass: 0014,  url: https://books.toscrape.com/catalogue/page-14.html\n",
      "2022-11-18; 17.28.34,  pass: 0015,  url: https://books.toscrape.com/catalogue/page-15.html\n",
      "2022-11-18; 17.28.46,  pass: 0016,  url: https://books.toscrape.com/catalogue/page-16.html\n",
      "2022-11-18; 17.28.59,  pass: 0017,  url: https://books.toscrape.com/catalogue/page-17.html\n",
      "2022-11-18; 17.29.12,  pass: 0018,  url: https://books.toscrape.com/catalogue/page-18.html\n",
      "2022-11-18; 17.29.25,  pass: 0019,  url: https://books.toscrape.com/catalogue/page-19.html\n",
      "2022-11-18; 17.29.38,  pass: 0020,  url: https://books.toscrape.com/catalogue/page-20.html\n",
      "2022-11-18; 17.29.50,  pass: 0021,  url: https://books.toscrape.com/catalogue/page-21.html\n",
      "2022-11-18; 17.30.03,  pass: 0022,  url: https://books.toscrape.com/catalogue/page-22.html\n",
      "2022-11-18; 17.30.16,  pass: 0023,  url: https://books.toscrape.com/catalogue/page-23.html\n",
      "2022-11-18; 17.30.30,  pass: 0024,  url: https://books.toscrape.com/catalogue/page-24.html\n",
      "2022-11-18; 17.30.42,  pass: 0025,  url: https://books.toscrape.com/catalogue/page-25.html\n",
      "2022-11-18; 17.30.55,  pass: 0026,  url: https://books.toscrape.com/catalogue/page-26.html\n",
      "2022-11-18; 17.31.08,  pass: 0027,  url: https://books.toscrape.com/catalogue/page-27.html\n",
      "2022-11-18; 17.31.20,  pass: 0028,  url: https://books.toscrape.com/catalogue/page-28.html\n",
      "2022-11-18; 17.31.32,  pass: 0029,  url: https://books.toscrape.com/catalogue/page-29.html\n",
      "2022-11-18; 17.31.45,  pass: 0030,  url: https://books.toscrape.com/catalogue/page-30.html\n",
      "2022-11-18; 17.31.58,  pass: 0031,  url: https://books.toscrape.com/catalogue/page-31.html\n",
      "2022-11-18; 17.32.11,  pass: 0032,  url: https://books.toscrape.com/catalogue/page-32.html\n",
      "2022-11-18; 17.32.23,  pass: 0033,  url: https://books.toscrape.com/catalogue/page-33.html\n",
      "2022-11-18; 17.32.36,  pass: 0034,  url: https://books.toscrape.com/catalogue/page-34.html\n",
      "2022-11-18; 17.32.49,  pass: 0035,  url: https://books.toscrape.com/catalogue/page-35.html\n",
      "2022-11-18; 17.33.03,  pass: 0036,  url: https://books.toscrape.com/catalogue/page-36.html\n",
      "2022-11-18; 17.33.16,  pass: 0037,  url: https://books.toscrape.com/catalogue/page-37.html\n",
      "2022-11-18; 17.33.28,  pass: 0038,  url: https://books.toscrape.com/catalogue/page-38.html\n",
      "2022-11-18; 17.33.41,  pass: 0039,  url: https://books.toscrape.com/catalogue/page-39.html\n",
      "2022-11-18; 17.33.53,  pass: 0040,  url: https://books.toscrape.com/catalogue/page-40.html\n",
      "2022-11-18; 17.34.06,  pass: 0041,  url: https://books.toscrape.com/catalogue/page-41.html\n",
      "2022-11-18; 17.34.19,  pass: 0042,  url: https://books.toscrape.com/catalogue/page-42.html\n",
      "2022-11-18; 17.34.32,  pass: 0043,  url: https://books.toscrape.com/catalogue/page-43.html\n",
      "2022-11-18; 17.34.44,  pass: 0044,  url: https://books.toscrape.com/catalogue/page-44.html\n",
      "2022-11-18; 17.34.56,  pass: 0045,  url: https://books.toscrape.com/catalogue/page-45.html\n",
      "2022-11-18; 17.35.09,  pass: 0046,  url: https://books.toscrape.com/catalogue/page-46.html\n",
      "2022-11-18; 17.35.20,  pass: 0047,  url: https://books.toscrape.com/catalogue/page-47.html\n",
      "2022-11-18; 17.35.33,  pass: 0048,  url: https://books.toscrape.com/catalogue/page-48.html\n",
      "2022-11-18; 17.35.46,  pass: 0049,  url: https://books.toscrape.com/catalogue/page-49.html\n",
      "2022-11-18; 17.35.59,  pass: 0050,  url: https://books.toscrape.com/catalogue/page-50.html\n"
     ]
    },
    {
     "name": "stderr",
     "output_type": "stream",
     "text": [
      "2022-11-18 17:25:32 [scrapy.utils.log] INFO: Scrapy 2.6.2 started (bot: books_scrapy)\n",
      "2022-11-18 17:25:32 [scrapy.utils.log] INFO: Versions: lxml 4.9.1.0, libxml2 2.9.14, cssselect 1.1.0, parsel 1.6.0, w3lib 1.21.0, Twisted 22.2.0, Python 3.8.8 (default, Apr 13 2021, 15:08:03) [MSC v.1916 64 bit (AMD64)], pyOpenSSL 22.0.0 (OpenSSL 1.1.1s  1 Nov 2022), cryptography 38.0.1, Platform Windows-7-6.1.7601-SP1\n",
      "2022-11-18 17:25:32 [scrapy.crawler] INFO: Overridden settings:\n",
      "{'BOT_NAME': 'books_scrapy',\n",
      " 'CONCURRENT_REQUESTS': 1,\n",
      " 'COOKIES_ENABLED': False,\n",
      " 'DEPTH_PRIORITY': 1,\n",
      " 'DOWNLOAD_DELAY': 0.5,\n",
      " 'FEED_EXPORT_ENCODING': 'UTF-8',\n",
      " 'LOG_LEVEL': 'WARNING',\n",
      " 'NEWSPIDER_MODULE': 'books_scrapy.spiders',\n",
      " 'SCHEDULER_DISK_QUEUE': 'scrapy.squeues.PickleFifoDiskQueue',\n",
      " 'SCHEDULER_MEMORY_QUEUE': 'scrapy.squeues.FifoMemoryQueue',\n",
      " 'SPIDER_MODULES': ['books_scrapy.spiders'],\n",
      " 'TWISTED_REACTOR': 'twisted.internet.asyncioreactor.AsyncioSelectorReactor',\n",
      " 'USER_AGENT': 'Mozilla/5.0 (Windows NT 6.1; Win64; x64) AppleWebKit/537.36 '\n",
      "               '(KHTML, like Gecko) Chrome/106.0.0.0 Safari/537.36'}\n"
     ]
    }
   ],
   "source": [
    "!scrapy crawl books_pages -o books_pages.json"
   ]
  },
  {
   "cell_type": "markdown",
   "id": "ae445631",
   "metadata": {},
   "source": [
    "### Подключаемся к серверу MongoDB\n",
    "Для того, чтобы посмотреть, сколько документов паучёк загрузил в базу в процессе своей работы."
   ]
  },
  {
   "cell_type": "code",
   "execution_count": 2,
   "id": "f5e48f1b",
   "metadata": {},
   "outputs": [],
   "source": [
    "import pymongo"
   ]
  },
  {
   "cell_type": "code",
   "execution_count": 3,
   "id": "89d34dca",
   "metadata": {},
   "outputs": [],
   "source": [
    "db_name = \"book_toscrape\"\n",
    "db_collection = \"books_pages\"\n",
    "db_address = \"mongodb://127.0.0.1:27017\""
   ]
  },
  {
   "cell_type": "code",
   "execution_count": 4,
   "id": "44b6e883",
   "metadata": {},
   "outputs": [
    {
     "data": {
      "text/plain": [
       "['admin', 'auto', 'book_toscrape', 'config', 'hh', 'local', 'testdb']"
      ]
     },
     "execution_count": 4,
     "metadata": {},
     "output_type": "execute_result"
    }
   ],
   "source": [
    "client = pymongo.MongoClient(db_address)\n",
    "client.list_database_names()"
   ]
  },
  {
   "cell_type": "code",
   "execution_count": 5,
   "id": "1b0b92a6",
   "metadata": {},
   "outputs": [],
   "source": [
    "db = client[db_name]\n",
    "collection = db[db_collection]"
   ]
  },
  {
   "cell_type": "code",
   "execution_count": 6,
   "id": "d954d3eb",
   "metadata": {},
   "outputs": [
    {
     "data": {
      "text/plain": [
       "['books_pages', 'pages']"
      ]
     },
     "execution_count": 6,
     "metadata": {},
     "output_type": "execute_result"
    }
   ],
   "source": [
    "db.list_collection_names()"
   ]
  },
  {
   "cell_type": "code",
   "execution_count": 7,
   "id": "2c4ad6ea",
   "metadata": {},
   "outputs": [
    {
     "name": "stdout",
     "output_type": "stream",
     "text": [
      "Всего 1000 документов.\n",
      "\n"
     ]
    }
   ],
   "source": [
    "print(f\"Всего {len(list(collection.find()))} документов.\\n\")"
   ]
  },
  {
   "cell_type": "code",
   "execution_count": 8,
   "id": "3b76c201",
   "metadata": {},
   "outputs": [],
   "source": [
    "# client.drop_database(db_name)\n",
    "# collection.drop()"
   ]
  }
 ],
 "metadata": {
  "kernelspec": {
   "display_name": "Python 3 (ipykernel)",
   "language": "python",
   "name": "python3"
  },
  "language_info": {
   "codemirror_mode": {
    "name": "ipython",
    "version": 3
   },
   "file_extension": ".py",
   "mimetype": "text/x-python",
   "name": "python",
   "nbconvert_exporter": "python",
   "pygments_lexer": "ipython3",
   "version": "3.8.8"
  }
 },
 "nbformat": 4,
 "nbformat_minor": 5
}
