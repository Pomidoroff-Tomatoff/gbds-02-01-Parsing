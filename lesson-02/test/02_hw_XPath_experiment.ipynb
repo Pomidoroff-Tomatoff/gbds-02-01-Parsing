{
 "cells": [
  {
   "cell_type": "markdown",
   "id": "adeef24a",
   "metadata": {},
   "source": [
    "`GB` BigData / [Олег Гладкий](https://gb.ru/users/3837199) // домашнее задание"
   ]
  },
  {
   "cell_type": "markdown",
   "id": "b20a5143",
   "metadata": {},
   "source": [
    "`262698` __Методы сбора и обработки данных из сети Интернет__:  `02`. Парсинг даных: HTML, DOM, XPath"
   ]
  },
  {
   "cell_type": "markdown",
   "id": "d4d2b65e",
   "metadata": {},
   "source": [
    "\n",
    "## Задание 1. XPath"
   ]
  },
  {
   "cell_type": "code",
   "execution_count": 1,
   "id": "b7bebf80",
   "metadata": {},
   "outputs": [],
   "source": [
    "import requests\n",
    "from lxml import html"
   ]
  },
  {
   "cell_type": "code",
   "execution_count": 2,
   "id": "6768bd83",
   "metadata": {},
   "outputs": [
    {
     "name": "stdout",
     "output_type": "stream",
     "text": [
      "Overwriting dom_example.html\n"
     ]
    }
   ],
   "source": [
    "%%writefile dom_example.html\n",
    "<!DOCTYPE HTML>\n",
    "<html>\n",
    "    <head>\n",
    "        <title>Page_Tytle</title>\n",
    "    </head>\n",
    "    <body>\n",
    "        <h1>\n",
    "            Header-1\n",
    "        </h1>\n",
    "        <div>\n",
    "            <h2>User Header, 1 any-2-text</h2>\n",
    "            <p class='price price_color'>any-text any-text any-text</p>\n",
    "            <p class='price price_2'>any-2-text any-2-text any-2-text</p>\n",
    "        </div>\n",
    "        <div class=\"super\">\n",
    "            <h2>User Header, 2</h2>\n",
    "            <p class='price price_color'>text-3 text-3 text-3 text-3 text-3</p>\n",
    "            <p class='price price_2'>any-4-text any-4-text any-4-text</p>\n",
    "        </div>\n",
    "        <div class=\"partner\">\n",
    "            <svg class=\"card-big__partners-badge\">\n",
    "                <use xlink:href=\"#ui-label_moslenta\">\n",
    "                </use>\n",
    "            </svg>\n",
    "        </div>\n",
    "        \n",
    "    </body>\n",
    "</html>\n"
   ]
  },
  {
   "cell_type": "code",
   "execution_count": 61,
   "id": "f44cfc0f",
   "metadata": {},
   "outputs": [],
   "source": [
    "# доступ к странице на диске через Jupyter не работает, \n",
    "# потому-что мы получаем страницу по идентификации Jupyter,\n",
    "# а не нашу страничку...\n",
    "# Нужно установить, видимо, локальный сервер, чтобы...\n",
    "\n",
    "# url = 'http://localhost:8889/view/02-01-Data_Get_internet/02_XPath/home_work/dom_example.html'\n",
    "# url = 'file:///X:/GeekBrains/02-01-Data_Get_internet/02_XPath/home_work/dom_example.html'\n",
    "# responce = requests.get(url=url)\n",
    "# responce.headers['content-type']"
   ]
  },
  {
   "cell_type": "code",
   "execution_count": null,
   "id": "06525f96",
   "metadata": {},
   "outputs": [],
   "source": [
    "\n"
   ]
  },
  {
   "cell_type": "markdown",
   "id": "ae2541e5",
   "metadata": {},
   "source": [
    "Попробуем подставить html-файл как `request.get(...).text` атрибут в метод `fromstring` для получения `DOM`"
   ]
  },
  {
   "cell_type": "code",
   "execution_count": 3,
   "id": "8cffa549",
   "metadata": {},
   "outputs": [],
   "source": [
    "with open('dom_example.html', 'r') as f:\n",
    "    responce = f.read()\n",
    "    \n",
    "dom = html.fromstring(responce)"
   ]
  },
  {
   "cell_type": "code",
   "execution_count": 4,
   "id": "6d751bec",
   "metadata": {},
   "outputs": [
    {
     "data": {
      "text/plain": [
       "['any-text any-text any-text',\n",
       " 'any-2-text any-2-text any-2-text',\n",
       " 'text-3 text-3 text-3 text-3 text-3',\n",
       " 'any-4-text any-4-text any-4-text']"
      ]
     },
     "execution_count": 4,
     "metadata": {},
     "output_type": "execute_result"
    }
   ],
   "source": [
    "dom.xpath('//p[@class=\"price price_color\"]/text() | //p[@class=\"price price_2\"]/text()')"
   ]
  },
  {
   "cell_type": "code",
   "execution_count": 25,
   "id": "05f14830",
   "metadata": {},
   "outputs": [
    {
     "data": {
      "text/plain": [
       "['any-text any-text any-text', 'text-3 text-3 text-3 text-3 text-3']"
      ]
     },
     "execution_count": 25,
     "metadata": {},
     "output_type": "execute_result"
    }
   ],
   "source": [
    "dom.xpath('//p[@class=\"price price_color\"]/text()')"
   ]
  },
  {
   "cell_type": "code",
   "execution_count": 40,
   "id": "4ba13cf8",
   "metadata": {},
   "outputs": [
    {
     "data": {
      "text/plain": [
       "['good']"
      ]
     },
     "execution_count": 40,
     "metadata": {},
     "output_type": "execute_result"
    }
   ],
   "source": [
    "from scrapy.selector import Selector\n",
    "body = '<html><body><span>good</span></body></html>'\n",
    "Selector(text=body).xpath('//span/text()').getall()"
   ]
  },
  {
   "cell_type": "code",
   "execution_count": 43,
   "id": "e8e255ef",
   "metadata": {},
   "outputs": [
    {
     "data": {
      "text/plain": [
       "['any-text any-text any-text', 'text-3 text-3 text-3 text-3 text-3']"
      ]
     },
     "execution_count": 43,
     "metadata": {},
     "output_type": "execute_result"
    }
   ],
   "source": [
    "body = responce\n",
    "Selector(text=body).xpath('//p[@class=\"price price_color\"]/text()').getall()"
   ]
  },
  {
   "cell_type": "code",
   "execution_count": 64,
   "id": "bfeb9008",
   "metadata": {},
   "outputs": [
    {
     "data": {
      "text/plain": [
       "[<Element p at 0x5826180>,\n",
       " <Element p at 0x5826db0>,\n",
       " <Element p at 0x58265e0>,\n",
       " <Element p at 0x5826e00>]"
      ]
     },
     "execution_count": 64,
     "metadata": {},
     "output_type": "execute_result"
    }
   ],
   "source": [
    "dom.xpath(\"//p[contains(@class, 'price')]\")"
   ]
  },
  {
   "cell_type": "code",
   "execution_count": 68,
   "id": "2e3fa088",
   "metadata": {},
   "outputs": [
    {
     "data": {
      "text/plain": [
       "['#ui-label_moslenta']"
      ]
     },
     "execution_count": 68,
     "metadata": {},
     "output_type": "execute_result"
    }
   ],
   "source": [
    "dom.xpath('.//div/*[name()=\"svg\"]/*[name()=\"use\"]/attribute::*')"
   ]
  },
  {
   "cell_type": "code",
   "execution_count": 84,
   "id": "eb51594a",
   "metadata": {},
   "outputs": [
    {
     "data": {
      "text/plain": [
       "['#ui-label_moslenta']"
      ]
     },
     "execution_count": 84,
     "metadata": {},
     "output_type": "execute_result"
    }
   ],
   "source": [
    "dom.xpath('.//svg/use/attribute::*')"
   ]
  },
  {
   "cell_type": "markdown",
   "id": "9157a2d7",
   "metadata": {},
   "source": [
    "Спустимся, для установки точки `\"any-2\"`, а потом поднимимся к родителю и выберем из списка любой `1`-ый элемент"
   ]
  },
  {
   "cell_type": "code",
   "execution_count": 46,
   "id": "cdcb661c",
   "metadata": {},
   "outputs": [
    {
     "name": "stdout",
     "output_type": "stream",
     "text": [
      "Всего найдено: 1\n",
      "Список: \n",
      "\n",
      "User Header, 1 any-2-text\n"
     ]
    }
   ],
   "source": [
    "elements = dom.xpath('.//p[contains(text(), \"any-2\")]/../*[1]/text()')\n",
    "\n",
    "print(f\"Всего найдено: {len(elements)}\\nСписок: \\n\")\n",
    "\n",
    "for el in elements:\n",
    "    print(el)"
   ]
  },
  {
   "cell_type": "code",
   "execution_count": 37,
   "id": "b1f2b7bb",
   "metadata": {},
   "outputs": [],
   "source": [
    "import datetime"
   ]
  },
  {
   "cell_type": "code",
   "execution_count": 45,
   "id": "7b14613d",
   "metadata": {},
   "outputs": [
    {
     "data": {
      "text/plain": [
       "'2022-09-30'"
      ]
     },
     "execution_count": 45,
     "metadata": {},
     "output_type": "execute_result"
    }
   ],
   "source": [
    "str(dt.date.today())"
   ]
  },
  {
   "cell_type": "code",
   "execution_count": null,
   "id": "a01c3e27",
   "metadata": {},
   "outputs": [],
   "source": []
  },
  {
   "cell_type": "code",
   "execution_count": 44,
   "id": "d59654fb",
   "metadata": {},
   "outputs": [
    {
     "ename": "AttributeError",
     "evalue": "module 'datetime' has no attribute 'today'",
     "output_type": "error",
     "traceback": [
      "\u001b[1;31m---------------------------------------------------------------------------\u001b[0m",
      "\u001b[1;31mAttributeError\u001b[0m                            Traceback (most recent call last)",
      "\u001b[1;32m<ipython-input-44-9419a0e49c5f>\u001b[0m in \u001b[0;36m<module>\u001b[1;34m\u001b[0m\n\u001b[1;32m----> 1\u001b[1;33m \u001b[0mnews_time\u001b[0m \u001b[1;33m=\u001b[0m \u001b[0mstr\u001b[0m\u001b[1;33m(\u001b[0m\u001b[0mdatetime\u001b[0m\u001b[1;33m.\u001b[0m\u001b[0mtoday\u001b[0m\u001b[1;33m(\u001b[0m\u001b[1;33m)\u001b[0m\u001b[1;33m.\u001b[0m\u001b[0mstrftime\u001b[0m\u001b[1;33m(\u001b[0m\u001b[1;34m\"%H:%M\"\u001b[0m\u001b[1;33m)\u001b[0m\u001b[1;33m)\u001b[0m\u001b[1;33m\u001b[0m\u001b[1;33m\u001b[0m\u001b[0m\n\u001b[0m",
      "\u001b[1;31mAttributeError\u001b[0m: module 'datetime' has no attribute 'today'"
     ]
    }
   ],
   "source": [
    "news_time = str(datetime.today().strftime(\"%H:%M\"))"
   ]
  },
  {
   "cell_type": "markdown",
   "id": "b5fccf1d",
   "metadata": {},
   "source": [
    "## HH.ru /xpath\n",
    "ВНИМАНИЕ\n",
    "* Если после заголовка `h1` следует тег `span`, то его указывать не надо! Так как он куда-то пропадает..."
   ]
  },
  {
   "cell_type": "code",
   "execution_count": 6,
   "id": "be40c9d5",
   "metadata": {},
   "outputs": [],
   "source": [
    "import requests\n",
    "from lxml import html"
   ]
  },
  {
   "cell_type": "code",
   "execution_count": 2,
   "id": "e74a384b",
   "metadata": {},
   "outputs": [
    {
     "data": {
      "text/plain": [
       "(200, 'text/html; charset=utf-8', 'https://nahabino.hh.ru/vacancy/73537275')"
      ]
     },
     "execution_count": 2,
     "metadata": {},
     "output_type": "execute_result"
    }
   ],
   "source": [
    "url = 'https://hh.ru/vacancy/73537275'\n",
    "\n",
    "headers = {\n",
    "    'User-Agent': 'Mozilla/5.0 (Windows NT 10.0; Win64; x64) AppleWebKit/537.36 (KHTML, like Gecko) Chrome/105.0.0.0 Safari/537.36',\n",
    "}\n",
    "\n",
    "response = requests.get(url=url, headers=headers)\n",
    "\n",
    "\n",
    "response.status_code, response.headers['Content-Type'], response.url, "
   ]
  },
  {
   "cell_type": "code",
   "execution_count": 7,
   "id": "45112944",
   "metadata": {},
   "outputs": [],
   "source": [
    "dom = html.fromstring(response.text) "
   ]
  },
  {
   "cell_type": "code",
   "execution_count": 25,
   "id": "c62966fe",
   "metadata": {},
   "outputs": [
    {
     "data": {
      "text/plain": [
       "['Senior Python Developer, Удаленно']"
      ]
     },
     "execution_count": 25,
     "metadata": {},
     "output_type": "execute_result"
    }
   ],
   "source": [
    "title = dom.xpath('//div[@class=\"vacancy-title\"]/h1/text()')\n",
    "title"
   ]
  },
  {
   "cell_type": "code",
   "execution_count": 43,
   "id": "9c59ca42",
   "metadata": {},
   "outputs": [
    {
     "data": {
      "text/plain": [
       "[]"
      ]
     },
     "execution_count": 43,
     "metadata": {},
     "output_type": "execute_result"
    }
   ],
   "source": [
    "dom.xpath('.//div[contains(@class, \"block-employer\")]//a[@class=\"vacancy-company-name\"]/text()')\n"
   ]
  },
  {
   "cell_type": "code",
   "execution_count": 61,
   "id": "7c11fbbf",
   "metadata": {},
   "outputs": [
    {
     "data": {
      "text/plain": [
       "[]"
      ]
     },
     "execution_count": 61,
     "metadata": {},
     "output_type": "execute_result"
    }
   ],
   "source": [
    "dom.xpath('//a[@class=\"vacancy-company-name\"]//span[@data-qa=\"bloko-header-2\"]/span/text()')"
   ]
  },
  {
   "cell_type": "code",
   "execution_count": 62,
   "id": "3e8b5328",
   "metadata": {},
   "outputs": [
    {
     "data": {
      "text/plain": [
       "['Vocato', 'Vocato']"
      ]
     },
     "execution_count": 62,
     "metadata": {},
     "output_type": "execute_result"
    }
   ],
   "source": [
    "dom.xpath('//span[@data-qa=\"bloko-header-2\"]/text()')"
   ]
  },
  {
   "cell_type": "markdown",
   "id": "fad4cd43",
   "metadata": {},
   "source": [
    "## HH.ru /BeautifulSoup"
   ]
  },
  {
   "cell_type": "code",
   "execution_count": 69,
   "id": "fca8b7c3",
   "metadata": {},
   "outputs": [],
   "source": [
    "from bs4 import BeautifulSoup as bs"
   ]
  },
  {
   "cell_type": "code",
   "execution_count": 70,
   "id": "ea794cfa",
   "metadata": {},
   "outputs": [],
   "source": [
    "soup = bs(response.text, 'html.parser')"
   ]
  },
  {
   "cell_type": "code",
   "execution_count": 17,
   "id": "9a875553",
   "metadata": {},
   "outputs": [],
   "source": [
    "cards = soup.find(name='div', attrs={'class': ['vacancy-title']})"
   ]
  },
  {
   "cell_type": "code",
   "execution_count": 71,
   "id": "2bb86a5a",
   "metadata": {},
   "outputs": [
    {
     "data": {
      "text/plain": [
       "<h1 class=\"bloko-header-section-1\" data-qa=\"vacancy-title\">Senior Python Developer, Удаленно</h1>"
      ]
     },
     "execution_count": 71,
     "metadata": {},
     "output_type": "execute_result"
    }
   ],
   "source": [
    "cards.find(name='h1')"
   ]
  },
  {
   "cell_type": "code",
   "execution_count": 72,
   "id": "066f8cfc",
   "metadata": {},
   "outputs": [
    {
     "data": {
      "text/plain": [
       "'Senior Python Developer, Удаленно'"
      ]
     },
     "execution_count": 72,
     "metadata": {},
     "output_type": "execute_result"
    }
   ],
   "source": [
    "cards.find(name='h1').text"
   ]
  },
  {
   "cell_type": "code",
   "execution_count": 81,
   "id": "70688a3d",
   "metadata": {},
   "outputs": [
    {
     "data": {
      "text/plain": [
       "'Vocato'"
      ]
     },
     "execution_count": 81,
     "metadata": {},
     "output_type": "execute_result"
    }
   ],
   "source": [
    "soup.find(name='a', attrs={'data-qa': ['vacancy-company-name']}).find(name='span', attrs={'data-qa': ['bloko-header-2']}).text"
   ]
  },
  {
   "cell_type": "code",
   "execution_count": 79,
   "id": "37bc073b",
   "metadata": {},
   "outputs": [
    {
     "data": {
      "text/plain": [
       "'Vocato'"
      ]
     },
     "execution_count": 79,
     "metadata": {},
     "output_type": "execute_result"
    }
   ],
   "source": [
    "soup.find(name='span', attrs={'data-qa': ['bloko-header-2']}).text"
   ]
  }
 ],
 "metadata": {
  "kernelspec": {
   "display_name": "Python 3 (ipykernel)",
   "language": "python",
   "name": "python3"
  },
  "language_info": {
   "codemirror_mode": {
    "name": "ipython",
    "version": 3
   },
   "file_extension": ".py",
   "mimetype": "text/x-python",
   "name": "python",
   "nbconvert_exporter": "python",
   "pygments_lexer": "ipython3",
   "version": "3.8.15"
  }
 },
 "nbformat": 4,
 "nbformat_minor": 5
}
