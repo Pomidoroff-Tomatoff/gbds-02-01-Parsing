{
 "cells": [
  {
   "cell_type": "markdown",
   "id": "adeef24a",
   "metadata": {},
   "source": [
    "`GB` BigData / [Олег Гладкий](https://gb.ru/users/3837199) // домашнее задание"
   ]
  },
  {
   "cell_type": "markdown",
   "id": "b20a5143",
   "metadata": {},
   "source": [
    "`262698` __Методы сбора и обработки данных из сети Интернет__:  `08`. Scrapy + API"
   ]
  },
  {
   "cell_type": "markdown",
   "id": "d4d2b65e",
   "metadata": {},
   "source": [
    "# Scrapy + API: визуализация"
   ]
  },
  {
   "cell_type": "markdown",
   "id": "88823bc8",
   "metadata": {},
   "source": [
    "Визуализация данных, полученных Scrapy при помощи API"
   ]
  },
  {
   "cell_type": "markdown",
   "id": "49fb3bcd",
   "metadata": {},
   "source": [
    "## MongoDB"
   ]
  },
  {
   "cell_type": "markdown",
   "id": "08cc82c6",
   "metadata": {},
   "source": [
    "__Соединяемся__ с базой данных вакансий, полученных в результат работы паука `hh_api.py`"
   ]
  },
  {
   "cell_type": "code",
   "execution_count": 1,
   "id": "b7bebf80",
   "metadata": {},
   "outputs": [],
   "source": [
    "import pandas as pd\n",
    "from pprint import pprint\n",
    "import pymongo\n",
    "import sys"
   ]
  },
  {
   "cell_type": "markdown",
   "id": "222c6cae",
   "metadata": {},
   "source": [
    "1. __Сервер__: соединяемся с сервером MongoDB: инициализируем клиента соединения `client`.\n",
    "2. __БД__: подключаемся к базе данных `job_api` инициализируя переменную `db`\n",
    "3. __Коллекция__: инициализируем ссылку `db` на коллекцию `vacancies_api`"
   ]
  },
  {
   "cell_type": "code",
   "execution_count": 2,
   "id": "b5b56ec6",
   "metadata": {},
   "outputs": [],
   "source": [
    "client = pymongo.MongoClient('mongodb://127.0.0.1:27017') \n",
    "db = client.job_api\n",
    "vacancies = db.vacancies_api"
   ]
  },
  {
   "cell_type": "markdown",
   "id": "efca0b62",
   "metadata": {},
   "source": [
    "__Проверяем__: _точно-ли в нашей беза имеется коллекция_"
   ]
  },
  {
   "cell_type": "code",
   "execution_count": 3,
   "id": "b1eabad4",
   "metadata": {},
   "outputs": [
    {
     "data": {
      "text/plain": [
       "['vacancies_api']"
      ]
     },
     "execution_count": 3,
     "metadata": {},
     "output_type": "execute_result"
    }
   ],
   "source": [
    "db.list_collection_names()"
   ]
  },
  {
   "cell_type": "markdown",
   "id": "8e8507d7",
   "metadata": {},
   "source": [
    "__Индекс__: сортировка по дате — создадим обычный индекс по полю `vacancies_api`. (У меня у меня mongo 4.2.23.)\n",
    "\n",
    "Инфо: https://pymongo.readthedocs.io/en/stable/tutorial.html"
   ]
  },
  {
   "cell_type": "code",
   "execution_count": 4,
   "id": "92cdefd7",
   "metadata": {},
   "outputs": [
    {
     "data": {
      "text/plain": [
       "('vacancies_api_1', str)"
      ]
     },
     "execution_count": 4,
     "metadata": {},
     "output_type": "execute_result"
    }
   ],
   "source": [
    "index_date = vacancies.create_index([('vacancies_api', pymongo.ASCENDING)], unique=False)\n",
    "index_date, type(index_date)"
   ]
  },
  {
   "cell_type": "markdown",
   "id": "e10e94bb",
   "metadata": {},
   "source": [
    "## Запрос вакансий по критерию"
   ]
  },
  {
   "cell_type": "markdown",
   "id": "91ffcac1",
   "metadata": {},
   "source": [
    "Выведем вакансии, соответствующие заданному уровню зарплаты. Внимание! Необходимо анализировать оба поля зарплаты."
   ]
  },
  {
   "cell_type": "markdown",
   "id": "8d083e4a",
   "metadata": {},
   "source": [
    "__Задайте уровень дохода__"
   ]
  },
  {
   "cell_type": "markdown",
   "id": "fe0cf6c7",
   "metadata": {},
   "source": [
    "Необходимо задать:\n",
    "* уровень дохода `pay_level_ru` в рублях\n",
    "\n",
    "А так же определить курсы валют: \n",
    "* курс доллара `rate_us_dollar`\n",
    "* курс евро `rate_euro`\n",
    "\n",
    "Полученная выбрка вакансий будет (в том числе) выведена в файл `04_hw_MongoDB_Python__pay_selection.txt` на диск."
   ]
  },
  {
   "cell_type": "code",
   "execution_count": 5,
   "id": "b9298d96",
   "metadata": {},
   "outputs": [],
   "source": [
    "pay_level_ru = 150000       # Задайте зарплату\n",
    "\n",
    "rate_us_dollar = 70         # Курс доллара \n",
    "rate_euro = 70              # Курс евро\n",
    "\n",
    "\n",
    "# Пересчёт уровня в рубли для \"долларовых\" вакансий\n",
    "\n",
    "pay_level_us = pay_level_ru / rate_us_dollar\n",
    "pay_level_eu = pay_level_ru / rate_euro\n",
    "\n",
    "curr_ru='руб'\n",
    "curr_us='USD'\n",
    "curr_eu='EUR'"
   ]
  },
  {
   "cell_type": "markdown",
   "id": "5ff55225",
   "metadata": {},
   "source": [
    "__Валюты__, проверка: проверяем валюты зарплатных предложений: выводим только уникальные значения поля `Maney_curr`"
   ]
  },
  {
   "cell_type": "code",
   "execution_count": 6,
   "id": "fd08053c",
   "metadata": {},
   "outputs": [
    {
     "data": {
      "text/plain": [
       "['EUR', 'RUR', 'USD']"
      ]
     },
     "execution_count": 6,
     "metadata": {},
     "output_type": "execute_result"
    }
   ],
   "source": [
    "vacancies.distinct('salary_cur')"
   ]
  },
  {
   "cell_type": "markdown",
   "id": "156bd72c",
   "metadata": {},
   "source": [
    "__Формирование запроса__"
   ]
  },
  {
   "cell_type": "markdown",
   "id": "d5790bba",
   "metadata": {},
   "source": [
    "Сформируем запрос для получения выборки (в виде курсора на эти данные). При этом учтём соглашения, принятые для соответствия данным сайта и значениям словаря на примере:\n",
    "* сайт: от 1000 р.\n",
    "    * `pay['Maney_min']` = 1000\n",
    "    * `pay['Maney_max']` = 0\n",
    "* сайт: от 1000 до 3000 р.\n",
    "    * `pay['Maney_min']` = 1000\n",
    "    * `pay['Maney_max']` = 3000 \n",
    "* сайт: до 3000 р.\n",
    "    * `pay['Maney_min']` = 0\n",
    "    * `pay['Maney_max']` = 3000\n",
    "* сайт: 1000 р.\n",
    "    * `pay['Maney_min']` = 1000\n",
    "    * `pay['Maney_max']` = 1000\n",
    "    \n",
    "Регулярные выражения: https://www.mongodb.com/docs/manual/reference/operator/query/regex/\n"
   ]
  },
  {
   "cell_type": "code",
   "execution_count": 7,
   "id": "eecff3af",
   "metadata": {},
   "outputs": [],
   "source": [
    "arg_ru = [\n",
    "    {'$and': [{'salary_min': {'$eq': 0}},                              # Рубли\n",
    "              {'salary_max': {'$gt': pay_level_ru}},\n",
    "              {'salary_cur': {'$regex': curr_ru, '$options': 'i'}}\n",
    "             ]\n",
    "    },              \n",
    "\n",
    "    {'$and': [{'salary_min': {'$gt': pay_level_ru}}, \n",
    "              {'salary_max': {'$eq': 0}},\n",
    "              {'salary_cur': {'$regex': curr_ru, '$options': 'i'}}\n",
    "             ]\n",
    "    },\n",
    "\n",
    "    {'$and': [{'salary_min': {'$gt': 0}}, \n",
    "              {'salary_max': {'$gt': pay_level_ru}},\n",
    "              {'salary_cur': {'$regex': curr_ru, '$options': 'i'}}\n",
    "             ]\n",
    "    },\n",
    "]"
   ]
  },
  {
   "cell_type": "code",
   "execution_count": 8,
   "id": "5b8d066c",
   "metadata": {},
   "outputs": [],
   "source": [
    "arg_us = [\n",
    "    {'$and': [{'salary_min': {'$eq': 0}},                              # USD\n",
    "              {'salary_max': {'$gt': pay_level_us}},\n",
    "              {'salary_cur': {'$regex': curr_us, '$options': 'i'}}\n",
    "             ]\n",
    "    },              \n",
    "\n",
    "    {'$and': [{'salary_min': {'$gt': pay_level_us}}, \n",
    "              {'salary_max': {'$eq': 0}},\n",
    "              {'salary_cur': {'$regex': curr_us, '$options': 'i'}}\n",
    "             ]\n",
    "    },\n",
    "\n",
    "    {'$and': [{'salary_min': {'$gt': 0}}, \n",
    "              {'salary_max': {'$gt': pay_level_us}},\n",
    "              {'salary_cur': {'$regex': curr_us, '$options': 'i'}}\n",
    "             ]\n",
    "    },\n",
    "]"
   ]
  },
  {
   "cell_type": "code",
   "execution_count": 9,
   "id": "00fcb134",
   "metadata": {},
   "outputs": [],
   "source": [
    "arg_eu = [\n",
    "    {'$and': [{'salary_min': {'$eq': 0}},                              # EUR\n",
    "              {'salary_max': {'$gt': pay_level_eu}},\n",
    "              {'salary_cur': {'$regex': curr_eu, '$options': 'i'}}\n",
    "             ]\n",
    "    },              \n",
    "\n",
    "    {'$and': [{'salary_min': {'$gt': pay_level_eu}}, \n",
    "              {'salary_max': {'$eq': 0}},\n",
    "              {'salary_cur': {'$regex': curr_eu, '$options': 'i'}}\n",
    "             ]\n",
    "    },\n",
    "\n",
    "    {'$and': [{'salary_min': {'$gt': 0}}, \n",
    "              {'salary_max': {'$gt': pay_level_eu}},\n",
    "              {'salary_cur': {'$regex': curr_eu, '$options': 'i'}}\n",
    "             ]\n",
    "    },\n",
    "]"
   ]
  },
  {
   "cell_type": "code",
   "execution_count": 10,
   "id": "084c00c7",
   "metadata": {},
   "outputs": [],
   "source": [
    "arg_curr = arg_ru + arg_us + arg_eu\n",
    "vacancies_selected = vacancies.find({'$or': arg_curr})"
   ]
  },
  {
   "cell_type": "markdown",
   "id": "304b4fd6",
   "metadata": {},
   "source": [
    "#### Выводим результат\n",
    "Результат выводи на экран в стандартный поток вывода и в файл на диск..."
   ]
  },
  {
   "cell_type": "code",
   "execution_count": 11,
   "id": "072642ae",
   "metadata": {},
   "outputs": [
    {
     "name": "stdout",
     "output_type": "stream",
     "text": [
      "PAY-LEVEL:150000\n",
      "  1    5000-  7000  USD   Head of backend development (Черногория)\n",
      "  2    3000-  5000  EUR   Senior PHP Developer / PHP программист\n",
      "  3    2000-  3000  USD   Python Developer (Middle)\n",
      "  4    3000-  5000  USD   Senior DevOps Engineer (Serbia/Canada)\n",
      "  5    5000-  7500  USD   Python + R Developer (bioinformatic), New Zealand\n",
      "  6    5000-  7500  USD   Bioinformatics Developer, New Zealand\n",
      "  7    5000-  7000  USD   Senior Backend Engineer (Remote)\n",
      "  8    3000-  4000  USD   Data Analyst (Remote)\n",
      "  9    2500-  3500  USD   Data Analyst (middle/senior)\n",
      " 10    2500-  5000  USD   Senior DevOps Engineer\n",
      " 11    1500-  2500  EUR   Software Developer / smart Cameras\n",
      " 12    3000-  5000  EUR   DevOps Engineer\n",
      " 13    4000-  5000  USD   AWS DevOps Engineer (Middle/ Senior) Remote\n",
      " 14    2000-  4000  USD   Middle Python Developer\n",
      " 15    2000-  3500  USD   Full-Stack Web-программист\n",
      " 16    3000-  7000  EUR   Реверс инженер / системный программист\n",
      " 17    4000-  5000  USD   Team Lead with back-end (Python) - remote\n"
     ]
    }
   ],
   "source": [
    "pay_level_ru = 150000  # Задайте зарплату (здесь для удобства)\n",
    "\n",
    "with open('hh_api_view_MongoDB_show.txt', 'a', encoding='utf-8') as f_out:\n",
    "    strims = [sys.stdout, f_out]  # выводим в файл и стандартный поток вывода (для удобства)\n",
    "    \n",
    "    for strim in strims:\n",
    "        print(f\"PAY-LEVEL:{pay_level_ru}\", file=strim)\n",
    "        \n",
    "    for i, vacancy in enumerate(vacancies_selected, start=1):\n",
    "        for strim in strims:\n",
    "            print(f\"{i:3}  {vacancy['salary_min']:6}-{vacancy['salary_max']:6} \",\n",
    "                  f\"{vacancy['salary_cur']:4}  {vacancy['name']}\", \n",
    "                  file=strim)"
   ]
  },
  {
   "cell_type": "markdown",
   "id": "0a140533",
   "metadata": {},
   "source": [
    "<!--  -->"
   ]
  },
  {
   "cell_type": "code",
   "execution_count": 12,
   "id": "3c7f3530",
   "metadata": {},
   "outputs": [],
   "source": [
    "client.close()"
   ]
  },
  {
   "cell_type": "markdown",
   "id": "b01900ef",
   "metadata": {},
   "source": [
    "<!--  -->"
   ]
  },
  {
   "cell_type": "markdown",
   "id": "b54f3788",
   "metadata": {},
   "source": [
    "__P.S.__\n",
    "\n"
   ]
  },
  {
   "cell_type": "markdown",
   "id": "fb1251e1",
   "metadata": {},
   "source": [
    "Основа представления: 4-е задание этого курса (MongoDB). "
   ]
  },
  {
   "cell_type": "markdown",
   "id": "d02fac91",
   "metadata": {},
   "source": [
    "2023-03-01"
   ]
  }
 ],
 "metadata": {
  "kernelspec": {
   "display_name": "Python [conda env:scrapy] *",
   "language": "python",
   "name": "conda-env-scrapy-py"
  },
  "language_info": {
   "codemirror_mode": {
    "name": "ipython",
    "version": 3
   },
   "file_extension": ".py",
   "mimetype": "text/x-python",
   "name": "python",
   "nbconvert_exporter": "python",
   "pygments_lexer": "ipython3",
   "version": "3.8.15"
  }
 },
 "nbformat": 4,
 "nbformat_minor": 5
}
