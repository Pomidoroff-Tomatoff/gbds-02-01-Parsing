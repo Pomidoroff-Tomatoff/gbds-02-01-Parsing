{
 "cells": [
  {
   "cell_type": "markdown",
   "id": "adeef24a",
   "metadata": {},
   "source": [
    "`GB` BigData / [Олег Гладкий](https://gb.ru/users/3837199) // домашнее задание"
   ]
  },
  {
   "cell_type": "markdown",
   "id": "b20a5143",
   "metadata": {},
   "source": [
    "`262698` __Методы сбора и обработки данных из сети Интернет__:  `04`. __MongoDB__ в Python"
   ]
  },
  {
   "cell_type": "markdown",
   "id": "d4d2b65e",
   "metadata": {},
   "source": [
    "# Домашнее задание по теме: MongoDB в Python"
   ]
  },
  {
   "cell_type": "markdown",
   "id": "88823bc8",
   "metadata": {},
   "source": [
    "1. Развернуть у себя _(на компьютере/виртуальной машине/хостинге)_ базу данных NoSQL __MongoDB__ и реализовать функцию, которая будет добавлять только _новые_ вакансии/продукты в вашу базу.\n",
    "\n",
    "2. (*) Написать функцию, которая производит поиск и выводит на экран вакансии с заработной платой больше введённой суммы (необходимо анализировать оба поля зарплаты).\n",
    "\n",
    "3. (*) Любая аналитика. Например matching ваканский с разных площадок\n",
    "\n"
   ]
  },
  {
   "cell_type": "markdown",
   "id": "49fb3bcd",
   "metadata": {},
   "source": [
    "## Задание 0: Читаем вакансии для БД"
   ]
  },
  {
   "cell_type": "markdown",
   "id": "08cc82c6",
   "metadata": {},
   "source": [
    "__Читаем__ данных из файла с диска, полученные в предыдущем дамашнем задании «Парсинг даных: HTML, Beautiful-Soap». Данные получены с сайта `hh.com`. Результаты парсинга в файле `03_hw_HTML_Beautiful-Soap_VACANCIES.json` в `json`-формате."
   ]
  },
  {
   "cell_type": "code",
   "execution_count": 1,
   "id": "efd6fa36",
   "metadata": {},
   "outputs": [],
   "source": [
    "import json"
   ]
  },
  {
   "cell_type": "code",
   "execution_count": 2,
   "id": "b3d5bacf",
   "metadata": {},
   "outputs": [],
   "source": [
    "vacancies_list = list([])\n",
    "\n",
    "# Читаем результаты парсинга сайта hh.ru (читаем сразу всё, а не частично)\n",
    "\n",
    "with open('03_hw_HTML_Beautiful-Soap_VACANCIES.json', 'r', encoding='utf-8') as f:\n",
    "    vacancies_list = json.load(f)\n",
    "    \n",
    "# vacancies_list"
   ]
  },
  {
   "cell_type": "markdown",
   "id": "842885cc",
   "metadata": {},
   "source": [
    "## Задание 1. MongoDB + вакансии"
   ]
  },
  {
   "cell_type": "markdown",
   "id": "4fc555a5",
   "metadata": {},
   "source": [
    "* Развернуть у себя на компьютере базу данных NoSQL __MongoDB__.\n",
    "* Реализовать функцию, которая будет добавлять только новые вакансии/продукты в вашу базу."
   ]
  },
  {
   "cell_type": "markdown",
   "id": "599e5817",
   "metadata": {},
   "source": [
    "### Разворачиваем MongoDB"
   ]
  },
  {
   "cell_type": "markdown",
   "id": "56048b7c",
   "metadata": {},
   "source": [
    "Устанавливаем базу данны MongoDB: сервер, клиент <br>\n",
    "__Примечание__: при установке необходимо где-то на последнем шаге отказаться от дополнительной установки среды Compass, так как это приводит к очень сильному зависанию всего процесса..."
   ]
  },
  {
   "cell_type": "code",
   "execution_count": 3,
   "id": "096f9d83",
   "metadata": {},
   "outputs": [],
   "source": [
    "# !mongodb-win32-x86_64-2012plus-4.2.23-signed.msi"
   ]
  },
  {
   "cell_type": "markdown",
   "id": "94bb178d",
   "metadata": {},
   "source": [
    "Устанавливаем Компас (среду для Mongo) для контроля ситуации из под ОС<br>\n",
    "__Примечание__: отдельно скачанный установщик отрабатывает предсказуемо быстро."
   ]
  },
  {
   "cell_type": "code",
   "execution_count": 4,
   "id": "25ff94c9",
   "metadata": {},
   "outputs": [],
   "source": [
    "# !mongodb-compass-1.33.1-win32-x64.exe"
   ]
  },
  {
   "cell_type": "markdown",
   "id": "c730c17a",
   "metadata": {},
   "source": [
    "Устанавливаем модуль `pymongo` для Питона.<br>\n",
    "__Примечание__: в нашем случае мы пользуемся средой Anaconda поэтому команда обращена именно к установщику Анаконды"
   ]
  },
  {
   "cell_type": "code",
   "execution_count": 5,
   "id": "e56d6b95",
   "metadata": {},
   "outputs": [],
   "source": [
    "# !conda install pymongo"
   ]
  },
  {
   "cell_type": "markdown",
   "id": "20f432bc",
   "metadata": {},
   "source": [
    "## Создание БД"
   ]
  },
  {
   "cell_type": "markdown",
   "id": "d862afe4",
   "metadata": {},
   "source": [
    "Начальная работа с базой данных `MongoDB`:\n",
    "* Создаём базу, но перед этим удаляем её! Вообще, так как мы решили вопрос дублирования (далее конструкцией try...except), можно базу данных и не удалять. Но для чистоты данного эксперимента и дабы не усложнять задачу — всё же удалим её, подготовив себе чистый плацдарм для работы.\n",
    "* Инициализируем ссылки на объекты и т. д."
   ]
  },
  {
   "cell_type": "code",
   "execution_count": 6,
   "id": "b7bebf80",
   "metadata": {},
   "outputs": [],
   "source": [
    "import pandas as pd\n",
    "from pprint import pprint\n",
    "import pymongo\n",
    "import sys"
   ]
  },
  {
   "cell_type": "code",
   "execution_count": 7,
   "id": "b1eabad4",
   "metadata": {},
   "outputs": [
    {
     "data": {
      "text/plain": [
       "[]"
      ]
     },
     "execution_count": 7,
     "metadata": {},
     "output_type": "execute_result"
    }
   ],
   "source": [
    "# Подключаемся к серверу баз данных\n",
    "\n",
    "client = pymongo.MongoClient('mongodb://127.0.0.1:27017') \n",
    "\n",
    "# Удаляем базу данных, перед начало работы с ней НА ДАННОМ ЭТАПЕ -- новые данные парсинга отсутствуют\n",
    "client.drop_database('hh')\n",
    "\n",
    "# Задаём ссылку на базу данных\n",
    "db = client.hh\n",
    "\n",
    "# Создаём ссылку на коллекцию (фактическу таблицу в понимании реляционных БД)\n",
    "vacancies = db.vacancies\n",
    "\n",
    "# Проверяем имеющиеся коллекции (таблицы) в БД по нашей ссылке\n",
    "db.list_collection_names()"
   ]
  },
  {
   "cell_type": "markdown",
   "id": "ad62179d",
   "metadata": {},
   "source": [
    "### Индекс"
   ]
  },
  {
   "cell_type": "markdown",
   "id": "8e8507d7",
   "metadata": {},
   "source": [
    "#### Дублирование документов: решение проблемы\n",
    "Создадим уникальный индекс по полю `Link`, включающий `id` вакансии, и исключим дублирование документов БД. В нашем случае этот индекс является дополнительным к уже имеющемуся основному индексу `_id` самой базы данных.\n",
    "\n",
    "Инфо: https://pymongo.readthedocs.io/en/stable/tutorial.html"
   ]
  },
  {
   "cell_type": "code",
   "execution_count": 8,
   "id": "92cdefd7",
   "metadata": {},
   "outputs": [
    {
     "data": {
      "text/plain": [
       "('Link_1', str)"
      ]
     },
     "execution_count": 8,
     "metadata": {},
     "output_type": "execute_result"
    }
   ],
   "source": [
    "# Для этой коллекции создаём индекс (у меня mongo 4.2.23)\n",
    "\n",
    "index_link = vacancies.create_index([('Link', pymongo.ASCENDING)], unique=True)\n",
    "index_link, type(index_link)"
   ]
  },
  {
   "cell_type": "markdown",
   "id": "e9fa8289",
   "metadata": {},
   "source": [
    "### Вносим данные в БД"
   ]
  },
  {
   "cell_type": "markdown",
   "id": "122b178f",
   "metadata": {},
   "source": [
    "Вносим __только новые__ вакансии: дублирование обрабатываем и отбрасываем.\n",
    "\n",
    "Данные, полученные ввиде json-файла из предыдущего урока, вносим в базу. "
   ]
  },
  {
   "cell_type": "code",
   "execution_count": 9,
   "id": "39caa166",
   "metadata": {},
   "outputs": [
    {
     "name": "stdout",
     "output_type": "stream",
     "text": [
      "-----\n",
      "Всего обработано 1160 документов: успешно 1145, дублирование 15, другие ошибки 0.\n",
      "БД (запрос): 1145 документов.\n"
     ]
    }
   ],
   "source": [
    "i_err_dup = 0\n",
    "i_err_other = 0\n",
    "i_ok = 0\n",
    "for i, vacancy in enumerate(vacancies_list, start=1):\n",
    "    try:\n",
    "        vacancies.insert_one(vacancy)                   # заносим документы в базу по одному\n",
    "        \n",
    "    except pymongo.errors.DuplicateKeyError:\n",
    "        i_err_dup += 1\n",
    "    except:\n",
    "        i_err_other += 1\n",
    "    else: \n",
    "        i_ok += 1\n",
    "\n",
    "print(f\"-----\")  # Отчитываемся\n",
    "print(f\"Всего обработано {i} документов: \"\n",
    "      f\"успешно {i_ok},\",\n",
    "      f\"дублирование {i_err_dup},\", \n",
    "      f\"другие ошибки {i_err_other}.\")\n",
    "print(f\"БД (запрос): {vacancies.count_documents({})} документов.\")"
   ]
  },
  {
   "cell_type": "markdown",
   "id": "e10e94bb",
   "metadata": {},
   "source": [
    "## Задание 2"
   ]
  },
  {
   "cell_type": "markdown",
   "id": "91ffcac1",
   "metadata": {},
   "source": [
    "Написать функцию, которая производит поиск и выводит на экран вакансии с заработной платой больше введённой суммы, при этом необходимо следующее:\n",
    "* необходимо анализировать оба поля зарплаты."
   ]
  },
  {
   "cell_type": "markdown",
   "id": "8d083e4a",
   "metadata": {},
   "source": [
    "### Задайте уровень дохода!"
   ]
  },
  {
   "cell_type": "markdown",
   "id": "fe0cf6c7",
   "metadata": {},
   "source": [
    "Необходимо задать:\n",
    "* уровень дохода `pay_level_ru` в рублях\n",
    "\n",
    "А так же определить курсы валют: \n",
    "* курс доллара `rate_us_dollar`\n",
    "* курс евро `rate_euro`\n",
    "\n",
    "Полученная выбрка вакансий будет (в том числе) выведена в файл `04_hw_MongoDB_Python__pay_selection.txt` на диск."
   ]
  },
  {
   "cell_type": "code",
   "execution_count": 10,
   "id": "b9298d96",
   "metadata": {},
   "outputs": [],
   "source": [
    "pay_level_ru = 360000       # Задайте зарплату\n",
    "\n",
    "rate_us_dollar = 60         # Курс доллара \n",
    "rate_euro = 55              # Курс евро\n",
    "\n",
    "\n",
    "# Пересчёт уровня в рубли для \"долларовых\" вакансий\n",
    "\n",
    "pay_level_us = pay_level_ru / rate_us_dollar\n",
    "pay_level_eu = pay_level_ru / rate_euro\n",
    "\n",
    "curr_ru='руб'\n",
    "curr_us='USD'\n",
    "curr_eu='EUR'"
   ]
  },
  {
   "cell_type": "markdown",
   "id": "5ff55225",
   "metadata": {},
   "source": [
    "Проверяем валюты зарплатных предложений: выводим только уникальные значения поля `Maney_curr`"
   ]
  },
  {
   "cell_type": "code",
   "execution_count": 11,
   "id": "fd08053c",
   "metadata": {},
   "outputs": [
    {
     "data": {
      "text/plain": [
       "['', 'EUR', 'USD', 'руб.']"
      ]
     },
     "execution_count": 11,
     "metadata": {},
     "output_type": "execute_result"
    }
   ],
   "source": [
    "vacancies.distinct('Maney_curr')"
   ]
  },
  {
   "cell_type": "markdown",
   "id": "156bd72c",
   "metadata": {},
   "source": [
    "#### Формирование запроса"
   ]
  },
  {
   "cell_type": "markdown",
   "id": "d5790bba",
   "metadata": {},
   "source": [
    "Сформируем запрос для получения выборки (в виде курсора на эти данные). При этом учтём соглашения, принятые для соответствия данным сайта и значениям словаря на примере:\n",
    "* сайт: от 1000 р.\n",
    "    * `pay['Maney_min']` = 1000\n",
    "    * `pay['Maney_max']` = 0\n",
    "* сайт: от 1000 до 3000 р.\n",
    "    * `pay['Maney_min']` = 1000\n",
    "    * `pay['Maney_max']` = 3000 \n",
    "* сайт: до 3000 р.\n",
    "    * `pay['Maney_min']` = 0\n",
    "    * `pay['Maney_max']` = 3000\n",
    "* сайт: 1000 р.\n",
    "    * `pay['Maney_min']` = 1000\n",
    "    * `pay['Maney_max']` = 1000\n",
    "    \n",
    "Регулярные выражения: https://www.mongodb.com/docs/manual/reference/operator/query/regex/\n"
   ]
  },
  {
   "cell_type": "code",
   "execution_count": 12,
   "id": "084c00c7",
   "metadata": {},
   "outputs": [],
   "source": [
    "arg_ru = [\n",
    "    {'$and': [{'Maney_min': {'$eq': 0}},               # Рубли\n",
    "              {'Maney_max': {'$gt': pay_level_ru}},\n",
    "              {'Maney_curr': {'$regex': curr_ru, '$options': 'i'}}\n",
    "             ]\n",
    "    },              \n",
    "\n",
    "    {'$and': [{'Maney_min': {'$gt': pay_level_ru}}, \n",
    "               {'Maney_max': {'$eq': 0}},\n",
    "               {'Maney_curr': {'$regex': curr_ru, '$options': 'i'}}\n",
    "              ]\n",
    "    },\n",
    "\n",
    "    {'$and': [{'Maney_min': {'$gt': 0}}, \n",
    "              {'Maney_max': {'$gt': pay_level_ru}},\n",
    "              {'Maney_curr': {'$regex': curr_ru, '$options': 'i'}}\n",
    "             ]\n",
    "    },\n",
    "]\n",
    "arg_us = [\n",
    "    {'$and': [{'Maney_min': {'$eq': 0}},               # USD\n",
    "              {'Maney_max': {'$gt': pay_level_us}},\n",
    "              {'Maney_curr': {'$regex': curr_us, '$options': 'i'}}\n",
    "             ]\n",
    "    },              \n",
    "\n",
    "    {'$and': [{'Maney_min': {'$gt': pay_level_us}}, \n",
    "              {'Maney_max': {'$eq': 0}},\n",
    "              {'Maney_curr': {'$regex': curr_us, '$options': 'i'}}\n",
    "             ]\n",
    "    },\n",
    "\n",
    "    {'$and': [{'Maney_min': {'$gt': 0}}, \n",
    "              {'Maney_max': {'$gt': pay_level_us}},\n",
    "              {'Maney_curr': {'$regex': curr_us, '$options': 'i'}}\n",
    "             ]\n",
    "    },\n",
    "]\n",
    "arg_eu = [\n",
    "    {'$and': [{'Maney_min': {'$eq': 0}},               # EUR\n",
    "              {'Maney_max': {'$gt': pay_level_eu}},\n",
    "              {'Maney_curr': {'$regex': curr_eu, '$options': 'i'}}\n",
    "             ]\n",
    "    },              \n",
    "\n",
    "    {'$and': [{'Maney_min': {'$gt': pay_level_eu}}, \n",
    "              {'Maney_max': {'$eq': 0}},\n",
    "              {'Maney_curr': {'$regex': curr_eu, '$options': 'i'}}\n",
    "             ]\n",
    "    },\n",
    "\n",
    "    {'$and': [{'Maney_min': {'$gt': 0}}, \n",
    "              {'Maney_max': {'$gt': pay_level_eu}},\n",
    "              {'Maney_curr': {'$regex': curr_eu, '$options': 'i'}}\n",
    "             ]\n",
    "    },\n",
    "]\n",
    "\n",
    "arg_curr = arg_ru + arg_us + arg_eu\n",
    "vacancies_selected = vacancies.find({'$or': arg_curr})"
   ]
  },
  {
   "cell_type": "markdown",
   "id": "304b4fd6",
   "metadata": {},
   "source": [
    "#### Выводим результат\n",
    "Результат выводи на экран в стандартный поток вывода и в файл на диск..."
   ]
  },
  {
   "cell_type": "code",
   "execution_count": 13,
   "id": "072642ae",
   "metadata": {},
   "outputs": [
    {
     "name": "stdout",
     "output_type": "stream",
     "text": [
      "PAY-LEVEL:360000\n",
      "  1    6000-  8000  USD   Разработчик C++ (релокация в Dubai)\n",
      "  2  300000-370000  руб.  Разработчик C++\n",
      "  3    6500-  6500  USD   Team Lead Python (relocation EU)\n",
      "  4  400000-450000  руб.  Python Team Lead / Руководитель backend разработки (в аккредитованную ИТ компанию)\n",
      "  5       0- 10000  EUR   C++ Developer (Berlin)\n",
      "  6    9500-  9500  USD   Manager, Site Reliability Engineering (to Canada/Serbia)\n",
      "  7  400000-400000  руб.  DevOps архитектор\n",
      "  8  400000-400000  руб.  Системный архитектор\n",
      "  9    7000-  7000  USD   Data Analyst - NLP (to Canada/Serbia)\n",
      " 10    8000-  8000  USD   Site Reliability Engineer (to Canada/Serbia)\n",
      " 11    8000-  8000  USD   Senior DevOps Engineer - Automation (to Canada/Serbia)\n",
      " 12   10000- 10000  USD   Head of DevOps (Dubai)\n",
      " 13    5500-  6500  USD   Senior Software Engineer (DevOps) – Remote\n",
      " 14  250000-400000  руб.  Middle/Senior DevOps engineer\n",
      " 15  250000-450000  руб.  Fullstack техлид (Python)\n",
      " 16    5500-  7200  USD   Product Owner in QA\n",
      " 17  400000-400000  руб.  Quantitative Developer\n",
      " 18  400000-700000  руб.  Senior Software Engineer\n",
      " 19  100000-400000  руб.  Программист-разработчик Middle\\Senior на Python\n",
      " 20  600000-600000  руб.  Разработчик Solidity/Разработчик Rust/Разработчик Go/Разработчик python(удаленно)\n",
      " 21       0-400000  руб.  Lead / Senior C# разработчик (.net, back-end)\n",
      " 22  400000-700000  руб.  Программист С++ Senior\n",
      " 23  300000-500000  руб.  Разработчик C# / Python\n",
      " 24    5000-  9000  USD   Senior Backend Engineer (Remote, to Canada/USA)\n"
     ]
    }
   ],
   "source": [
    "with open('04_hw_MongoDB_Python__pay_selection.txt', 'a', encoding='utf-8') as f_out:\n",
    "    strims = [sys.stdout, f_out]  # выводим в файл и стандартный поток вывода (для удобства)\n",
    "    \n",
    "    for strim in strims:\n",
    "        print(f\"PAY-LEVEL:{pay_level_ru}\", file=strim)\n",
    "        \n",
    "    for i, vacancy in enumerate(vacancies_selected, start=1):\n",
    "        for strim in strims:\n",
    "            print(f\"{i:3}  {vacancy['Maney_min']:6}-{vacancy['Maney_max']:6} \",\n",
    "                  f\"{vacancy['Maney_curr']:4}  {vacancy['Name']}\", \n",
    "                  file=strim)"
   ]
  },
  {
   "cell_type": "markdown",
   "id": "0a140533",
   "metadata": {},
   "source": [
    "<!--  -->"
   ]
  },
  {
   "cell_type": "markdown",
   "id": "a4f5c75f",
   "metadata": {},
   "source": [
    "<!--  -->"
   ]
  },
  {
   "cell_type": "markdown",
   "id": "b01900ef",
   "metadata": {},
   "source": [
    "<!--  -->"
   ]
  },
  {
   "cell_type": "markdown",
   "id": "b54f3788",
   "metadata": {},
   "source": [
    "__P.S.__\n",
    "\n"
   ]
  },
  {
   "cell_type": "markdown",
   "id": "d02fac91",
   "metadata": {},
   "source": [
    "При контроле внесения дубля вакансии не отработана возможность обновления записи, так как дубль может быть более свежей записью, хотя расчитываем, что нам повезло — более свежие копии вакансий должны быть в начале файла данных."
   ]
  },
  {
   "cell_type": "markdown",
   "id": "3edee3d5",
   "metadata": {},
   "source": [
    "Почему-то вроде-бы такая простая задача получается такой сложной в исполнении?"
   ]
  },
  {
   "cell_type": "markdown",
   "id": "3fb0c26e",
   "metadata": {},
   "source": [
    "### Проверка"
   ]
  },
  {
   "cell_type": "markdown",
   "id": "86446d35",
   "metadata": {},
   "source": [
    "__Проверено__: 2022-12-27; 18:53\n",
    "__Оценка__: отлично\n",
    "__Коммент.__:  все верно выполнено. Можно id сделать как сборный хеш всех полей - тогда проверка на вхождение будет быстрее и эфективнее.\n",
    "__Ревьювер__: Вадим Мазейко, преподаватель "
   ]
  },
  {
   "cell_type": "markdown",
   "id": "35d81df2",
   "metadata": {},
   "source": [
    "<!--  -->"
   ]
  },
  {
   "cell_type": "markdown",
   "id": "410de628",
   "metadata": {},
   "source": [
    "ZIP of code..."
   ]
  },
  {
   "cell_type": "code",
   "execution_count": 14,
   "id": "a05520d8",
   "metadata": {},
   "outputs": [
    {
     "name": "stdout",
     "output_type": "stream",
     "text": [
      "CPU times: total: 0 ns\n",
      "Wall time: 0 ns\n"
     ]
    }
   ],
   "source": [
    "%%time\n",
    "# инициализируем выходную таблицу\n",
    "# vacancies = pd.DataFrame( \\\n",
    "#     columns=['Name', 'Company', 'Link', 'Date', 'Source', 'Maney_min', 'Maney_max', 'Maney_curr'], \\\n",
    "#     index=[])"
   ]
  }
 ],
 "metadata": {
  "kernelspec": {
   "display_name": "Python [conda env:scrapy] *",
   "language": "python",
   "name": "conda-env-scrapy-py"
  },
  "language_info": {
   "codemirror_mode": {
    "name": "ipython",
    "version": 3
   },
   "file_extension": ".py",
   "mimetype": "text/x-python",
   "name": "python",
   "nbconvert_exporter": "python",
   "pygments_lexer": "ipython3",
   "version": "3.8.15"
  }
 },
 "nbformat": 4,
 "nbformat_minor": 5
}
